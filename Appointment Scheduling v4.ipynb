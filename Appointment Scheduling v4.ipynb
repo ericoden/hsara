{
 "cells": [
  {
   "cell_type": "markdown",
   "metadata": {},
   "source": [
    "## Problem Statement\n",
    "\n",
    "Let $G = (N,A)$ be a complete network. Consider a fixed route $r = \\{r_0,\\dots,r_n\\}$, where $r_0 \\in N$ is the depot, and for $k \\in \\{1,\\dots, n\\}$, $r_k \\in N$ is a stop at some customer. Associated with each edge $(i,j) \\in A$ is a normally-distributed travel time, $t_{ij} \\sim N(\\mu_{ij}^t, \\sigma_{ij}^t)$. Associated with each node $i \\in N$ is a normally distributed service time $s_i \\in N(\\mu_{i}^s, \\sigma_{i}^s)$. Each customer cancels with probability $p \\in (0,1)$. We seek to establish an appointment time for each customer $i$. There is a linear penalty for lateness and for earliness, with per-unit time costs $c_l$ and $c_e$, respectively. Service cannot begin at a node until the appointment time, but can start late. Customer cancellations are learned of after setting the route and appointment times. In the event of customer cancellations, the truck visits the remaining customers in the order of the original sequence. Let the appointment time at node $r_i$ be given by $a_i$. Let $A_i$ be the random variable denoting the arrival time at node $r_i$, assuming the customer at $r_i$ does not cancel.. If $r_i$ does cancel, let $A_i=a_i$. The expected penalty minimization problem can then be expressed:\n",
    "\n",
    "\\begin{equation}\n",
    "\\min_{\\{a_0,\\dots, a_n\\}} \\sum_{i=0}^n \\mathbb{E} \\left[ c_e \\max\\{0, a_i - A_i\\} + c_l \\max\\{0, A_i - a_i\\} \\right].\n",
    "\\end{equation}\n",
    "\n",
    "## Decomposition Approach\n",
    "\n",
    "Note that $A_i$ is dependent on $a_0,\\dots, a_{i-1}$ (i.e., the arrival time at a node depends on the appointment times at the previous nodes). To simplify the problem, we shall instead solve a sequence of problems, iterating from $i=0$ to $i=n$:\n",
    "\n",
    "\\begin{equation}\n",
    "\\min_{a_i} \\mathbb{E} \\left[ c_e \\max\\{0, a_i - A_i\\} + c_l \\max\\{0, A_i - a_i\\} \\right]\n",
    "\\end{equation}\n",
    "\n",
    "That is, we set the appointment time for the first customer, then do the same for the second customer, then the third customer, etc. We may set $a_0=A_0=0$. For $i>0$, this is a classical newsvendor problem, which has solution:\n",
    "\n",
    "$$a_i = F_i^{-1}\\left(\\frac{c_l}{c_e + c_l}\\right)$$\n",
    "\n",
    "where $F_i(x)$ is the cumulative distribution function for the random variable $A_i$ (thus, $F_i^{-1}(x)$ is the quantile function). Let $q = \\frac{c_l}{c_e + c_l}$ be the critical ratio at which we evaluate the quantile function. Since we solve the problems in a sequence, we have all $a_j$ for $0 \\leq j < i$, meaning we have sufficient information to calculate $F_i(x)$.\n",
    "\n",
    "\n",
    "## Calculating $F_j(x)$\n",
    "\n",
    "We seek $F_j(x) = P(A_j \\le x)$ for a stop $j$. We assume we know $a_i$ for all $0 \\leq i < j$. Observe:\n",
    "\n",
    "$$P(A_j \\le x) = \\sum_{k=0}^{j-1} P(A_j \\le x \\text{ and } k \\text{ cancellations}) = \\sum_{k=0}^{j-1} {j-1 \\choose k} p^k (1-p)^{j-1 -k} P(A_j \\le x \\mid k \\text{ cancellations}) $$\n",
    "\n",
    "Let $\\Gamma_k$ be set of subroutes that result from deleting $k$ customers. Consider a subroute $\\gamma=\\{\\gamma_0, \\dots, \\gamma_m\\} \\in \\Gamma_k$. Note that $\\gamma_0 = r_0$, $\\gamma_m = r_j$, and $m = j-k$. Let $A_j^{\\gamma}$ be the arrival time at node $\\gamma_j$, assuming the truck travels along the subroute $\\gamma$. We have:\n",
    "\n",
    "$$P(A_j \\le x \\mid k \\text{ cancellations}) = \\frac{1}{|\\Gamma_k|} \\sum_{\\gamma \\in \\Gamma_k} P(A^{\\gamma}_{j-k} \\le x)$$\n",
    "\n",
    "Letting $G$ be the cumulative distribution function for a normally distributed random variable with mean $\\mu$ and standard deviation $\\sigma$:\n",
    "$$G[\\mu,\\sigma](x) = \\frac{1}{2} \\left[1 + \\text{erf} \\left( \\frac{x - \\mu}{\\sqrt{2} \\sigma}\\right) \\right],$$\n",
    "letting $Q_{i,j}^{\\gamma}$ be the cumulative distribution function for the normally-distributed random variable reflecting the elapsed time between arriving at $\\gamma_i$ and arriving at $\\gamma_j$ along the subroute $\\gamma$, assuming service commences immediately upon arrival:\n",
    "$$Q_{i,j}^{\\gamma}(x) = H[\\{\\gamma_i, \\gamma_{i+1},\\dots, \\gamma_j\\}](x)$$\n",
    "where\n",
    "$$H[\\delta](x) = G \\left[\\sum_{i=1}^{|\\delta|-1} \\mu_{\\delta_i}^s + \\mu_{\\delta_i,\\delta_{i+1}}^t, \\sum_{i=1}^{|\\delta|-1} (\\sigma_{\\delta_i}^s)^2 + (\\sigma_{\\delta_i,\\delta_{i+1}}^t)^2 \\right](x),$$\n",
    "\n",
    "we have the formula (proved by induction):\n",
    "$$P(A^{\\gamma}_1 \\le x) =  Q^{\\gamma}_{0,1}(x)$$\n",
    "$$P(A^{\\gamma}_k \\le x) = \\left[\\prod_{i=1}^{k-1} (1-\\xi_i^{\\gamma})\\right]Q_{0,k}^{\\gamma}(x)  + \\sum_{i=1}^{k-1} \\left[ \\prod_{j={i+1}}^{k-1}(1-\\xi_j^{\\gamma}) \\right] \\xi_i^{\\gamma} Q_{i,k}^{\\gamma}(x - a_{\\gamma_i})$$\n",
    "where \n",
    "$$\\xi^{\\gamma}_i = P(A^{\\gamma}_i \\le a_{\\gamma_i})$$\n",
    "Thus,\n",
    "\n",
    "$$P(A_j \\le x) = \\sum_{k=0}^{j-1} {j-1 \\choose k} p^k (1-p)^{j-1 -k} \\frac{1}{|\\Gamma_k|} \\sum_{\\gamma \\in \\Gamma_k} \\left[P(A^{\\gamma}_{j-k} \\le x) \\right]$$"
   ]
  },
  {
   "cell_type": "markdown",
   "metadata": {},
   "source": [
    "## Computational Experimentation"
   ]
  },
  {
   "cell_type": "code",
   "execution_count": 233,
   "metadata": {},
   "outputs": [],
   "source": [
    "import numpy as np\n",
    "import matplotlib.pyplot as plt\n",
    "import math\n",
    "from scipy import optimize # finding roots\n",
    "np.random.seed(42)"
   ]
  },
  {
   "cell_type": "markdown",
   "metadata": {},
   "source": [
    "Setting parameters:"
   ]
  },
  {
   "cell_type": "code",
   "execution_count": 234,
   "metadata": {},
   "outputs": [],
   "source": [
    "n = 20 # number of customers (physicians see about 20 patients per day)\n",
    "\n",
    "mean_service_time = 5 # mean service times\n",
    "stddev_service_time = mean_service_time / 2 # std. dev. of service time\n",
    "\n",
    "p = 0.05 # cancellation probability\n",
    "\n",
    "c_e = 5 # unit earliness cost\n",
    "c_l = 10 # unit lateness cost\n",
    "q = c_l / (c_e + c_l) # critical ratio\n",
    "\n",
    "SQRT_2 = math.sqrt(2)\n",
    "\n",
    "mu_s = mean_service_time * np.ones(n+1)\n",
    "sigma_s = stddev_service_time * np.ones(n+1)\n",
    "mu_s[0] = 0 # no service time at the depot\n",
    "sigma_s[0] = 0 \n",
    "\n",
    "d = np.zeros([n+1, n+1])\n",
    "x_coord = np.random.uniform(low=0, high=10, size=n+1)\n",
    "y_coord = np.random.uniform(low=0, high=10, size=n+1)\n",
    "\n",
    "def get_distance(i,j):\n",
    "    return np.sqrt((x_coord[i] - x_coord[j]) ** 2 + (y_coord[i] - y_coord[j]) ** 2)\n",
    "\n",
    "for i in range(n+1):\n",
    "    for j in range(i,n+1):\n",
    "        d[i,j] = get_distance(i,j)\n",
    "        d[j,i] = d[i,j]\n",
    "mu_t = np.array(d)\n",
    "sigma_t = np.array(d) / 2"
   ]
  },
  {
   "cell_type": "code",
   "execution_count": 382,
   "metadata": {},
   "outputs": [],
   "source": [
    "a = [] # list of appointment times\n",
    "a.append(0) # appointment at depot is 0"
   ]
  },
  {
   "cell_type": "code",
   "execution_count": 236,
   "metadata": {},
   "outputs": [],
   "source": [
    "def get_arrival_time(): # simulation\n",
    "    cancellations = np.random.binomial(1, p, size = n+1)\n",
    "    cancellations[0] = 0 # depot doesn't cancel\n",
    "    cancellations[n] = 0 # last stop doesn't cancel\n",
    "    arrival_time = 0\n",
    "    current_stop = 0\n",
    "    while current_stop < n:\n",
    "        service_time = np.random.normal(mu_s, sigma_s)\n",
    "        next_stop = min([j for j in range(n+1) if (j > current_stop) if cancellations[j] == 0])\n",
    "        travel_time = np.random.normal(d[current_stop, next_stop], d[current_stop, next_stop] / 2)\n",
    "        arrival_time += service_time + travel_time\n",
    "        current_stop = next_stop\n",
    "    return(arrival_time)\n",
    "\n",
    "def get_expected_arrival_time(): # baseline model\n",
    "    arrival_time = 0\n",
    "    current_stop = 0\n",
    "    while current_stop < n:\n",
    "        service_time = mu_s\n",
    "        next_stop = current_stop + 1\n",
    "        travel_time = d[current_stop, next_stop]\n",
    "        arrival_time += service_time + travel_time\n",
    "        current_stop = next_stop\n",
    "    return(arrival_time)\n",
    "\n",
    "def get_cost(true, pred):\n",
    "    # if later than prediction\n",
    "    if true > pred:\n",
    "        return c_l * (true - pred)\n",
    "    else:\n",
    "        return c_e * (pred - true)"
   ]
  },
  {
   "cell_type": "code",
   "execution_count": 237,
   "metadata": {},
   "outputs": [],
   "source": [
    "def G(mu, sigma, x):\n",
    "    '''Calculates the CDF of a normal distribution with mean mu and\n",
    "    standard deviation sigma evaluated at a point x'''\n",
    "    return (1 / 2) * (1 + math.erf((x - mu)/(SQRT_2 * sigma)))\n",
    "\n",
    "def H(delta, x):\n",
    "    '''Cumulative distribution function for the normally-distributed\n",
    "    random variable reflecting the elapsed time between arriving at\n",
    "    the first stop and arriving at the last stop along the subroute\n",
    "    delta, assuming service commences immediately upon arrival'''\n",
    "    mu = 0\n",
    "    sigma = 0\n",
    "    for i in range(len(delta) - 1):\n",
    "        current_stop = delta[i]\n",
    "        next_stop = delta[i+1]\n",
    "        mu += mu_s[current_stop]\n",
    "        mu += mu_t[current_stop, next_stop]\n",
    "        sigma += sigma_s[current_stop] ** 2\n",
    "        sigma += sigma_t[current_stop, next_stop] ** 2\n",
    "    sigma = math.sqrt(sigma)\n",
    "    return G(mu, sigma, x)\n",
    "\n",
    "def Q(gamma, i, j, x):\n",
    "    return H(gamma[i:(j+1)], x)"
   ]
  },
  {
   "cell_type": "markdown",
   "metadata": {},
   "source": [
    "### Appointment at $r_1$\n",
    "\n",
    "We have the following formula for the appointment at $r_1$: \n",
    "$$a_1 = F^{-1}_1(q)$$\n",
    "\n",
    "where $F_1(x)$ is the CDF of the random variable $A_1$, representing the arrival time at $r_1$. We have \n",
    "$$F_1(x) = Q^{\\gamma}_{0,1}(x)$$\n",
    "where $\\gamma = [r_0, r_1]$. Thus, to get $a_1$, we numerically solve \n",
    "\n",
    "$$Q^{\\gamma}_{0,1}(x) - q = 0$$\n",
    "\n",
    "for $x$."
   ]
  },
  {
   "cell_type": "code",
   "execution_count": 238,
   "metadata": {},
   "outputs": [
    {
     "data": {
      "image/png": "[encoded data removed]",
      "text/plain": [
       "<Figure size 432x288 with 1 Axes>"
      ]
     },
     "metadata": {
      "needs_background": "light"
     },
     "output_type": "display_data"
    }
   ],
   "source": [
    "gamma = [0, 1]\n",
    "X = np.arange(-10,30,0.1)\n",
    "fig = plt.figure()\n",
    "plt.scatter(X, [Q(gamma, 0, 1, x) - q for x in X])\n",
    "plt.show()"
   ]
  },
  {
   "cell_type": "code",
   "execution_count": 239,
   "metadata": {},
   "outputs": [
    {
     "name": "stdout",
     "output_type": "stream",
     "text": [
      "Appointment Time at r_1: 7.244209237906065\n"
     ]
    }
   ],
   "source": [
    "def my_function(x):\n",
    "    return Q(gamma, 0, 1, x) - q\n",
    "sol = optimize.root_scalar(my_function, bracket=[0,15])\n",
    "print('Appointment Time at r_1:', sol.root)\n",
    "a.append(sol.root)"
   ]
  },
  {
   "cell_type": "markdown",
   "metadata": {},
   "source": [
    "### Appointment at $r_2$\n",
    "\n",
    "\n",
    "We have the following formula for the appointment at $r_2$: \n",
    "$$a_2 = F^{-1}_2(q)$$\n",
    "\n",
    "where $F_2(x)$ is the CDF of the random variable $A_2$, representing the arrival time at $r_2$. We have \n",
    "\\begin{align*}\n",
    "F_2(x) &= \\sum_{k=0}^{2-1} {2-1 \\choose k} p^k (1-p)^{2-1 -k} \\frac{1}{|\\Gamma_k|} \\sum_{\\gamma \\in \\Gamma_k} \\left[P(A^{\\gamma}_{j-k} \\le x) \\right] \\\\\n",
    "&= \\sum_{k=0}^{1} {1 \\choose k} p^k (1-p)^{1 -k} \\frac{1}{|\\Gamma_k|} \\sum_{\\gamma \\in \\Gamma_k} \\left[P(A^{\\gamma}_{2-k} \\le x) \\right] \\\\\n",
    "&= (1 - p) P(A^{[0,1,2]}_{2} \\le x) + p P(A^{[0,2]}_{1} \\le x) \\\\\n",
    "\\end{align*}\n",
    "By the general formula,\n",
    "\\begin{align*}\n",
    "P(A^{[0,1,2]}_{2} \\le x) &= \\left[\\prod_{i=1}^{2-1} (1-\\xi_i^{\\gamma})\\right]Q_{0,2}^{\\gamma}(x)  + \\sum_{i=1}^{2-1} \\left[ \\prod_{j={i+1}}^{2-1}(1-\\xi_j^{\\gamma}) \\right] \\xi_i^{\\gamma} Q_{i,2}^{\\gamma}(x - a_{\\gamma_i}) \\\\\n",
    "&= (1-\\xi_1^{[0,1,2]})Q_{0,2}^{[0,1,2]}(x)  + \\xi_1^{[0,1,2]} Q_{1,2}^{[0,1,2]}(x - a_{1}) \\\\\n",
    "\\end{align*}\n",
    "where $\\xi_1^{[0,1,2]} = Q_{0,1}^{[0,1]}(\\alpha_1)$\n",
    "\n",
    "and\n",
    "\n",
    "\\begin{align*}\n",
    "P(A^{[0,2]}_{1} \\le x) = Q_{0,1}^{[0,2]}(x)\n",
    "\\end{align*}"
   ]
  },
  {
   "cell_type": "code",
   "execution_count": 250,
   "metadata": {},
   "outputs": [
    {
     "data": {
      "image/png": "[encoded data removed]",
      "text/plain": [
       "<Figure size 432x288 with 1 Axes>"
      ]
     },
     "metadata": {
      "needs_background": "light"
     },
     "output_type": "display_data"
    },
    {
     "name": "stdout",
     "output_type": "stream",
     "text": [
      "Appointment Time at r_2: 15.41622009211433\n"
     ]
    }
   ],
   "source": [
    "gamma = [0,1,2]\n",
    "xi_1_gamma = Q([0,1], 0, 1, a[gamma[1]])\n",
    "def F(x):\n",
    "    return (1-p) * ((1 - xi_1_gamma) * Q([0,1,2], 0, 2, x) + xi_1_gamma * Q([0,1,2], 1, 2, x - a[gamma[1]])) + p * Q([0,2],0,1,x) - q\n",
    "X = np.arange(-10,30,.1)\n",
    "fig = plt.figure()\n",
    "plt.scatter(X, [F(x) for x in X])\n",
    "plt.show()\n",
    "sol = optimize.root_scalar(F, bracket=[0,100])\n",
    "print('Appointment Time at r_2:', sol.root)"
   ]
  },
  {
   "cell_type": "code",
   "execution_count": 251,
   "metadata": {},
   "outputs": [],
   "source": [
    "def get_gamma_cdf(gamma, x):\n",
    "    result = 0\n",
    "    #print('Gamma', gamma)\n",
    "    k = len(gamma) - 1\n",
    "    # compute xi_i for i in 1 to k-1\n",
    "    xi = [get_gamma_cdf(gamma[0:i+1], a[gamma[i]]) for i in range(1,k)]\n",
    "    xi.insert(0,0)\n",
    "    result += np.product([(1-xi[i]) for i in range(1,k)]) * Q(gamma, 0, k, x)\n",
    "    #print(xi)\n",
    "    for i in range(1, k):\n",
    "        result += np.product([(1-xi[j]) for j in range(i+1, k)]) * xi[i] * Q(gamma, i, k, x - a[gamma[i]])\n",
    "    return result"
   ]
  },
  {
   "cell_type": "code",
   "execution_count": 252,
   "metadata": {},
   "outputs": [
    {
     "data": {
      "image/png": "[encoded data removed]",
      "text/plain": [
       "<Figure size 432x288 with 1 Axes>"
      ]
     },
     "metadata": {
      "needs_background": "light"
     },
     "output_type": "display_data"
    },
    {
     "name": "stdout",
     "output_type": "stream",
     "text": [
      "Appointment Time at r_2: 15.41622009211433\n"
     ]
    }
   ],
   "source": [
    "def F2(x):\n",
    "    return (1-p) * get_gamma_cdf([0,1,2], x) + p * get_gamma_cdf([0,2], x) - q\n",
    "X = np.arange(-10,30,.1)\n",
    "fig = plt.figure()\n",
    "plt.scatter(X, [F2(x) for x in X])\n",
    "plt.show()\n",
    "sol = optimize.root_scalar(F2, bracket=[0,100])\n",
    "print('Appointment Time at r_2:', sol.root)\n",
    "a.append(sol.root)"
   ]
  },
  {
   "cell_type": "markdown",
   "metadata": {},
   "source": [
    "### Appointment at $r_3$\n",
    "\n",
    "\n",
    "We have the following formula for the appointment at $r_3$: \n",
    "$$a_3 = F^{-1}_3(q)$$\n",
    "\n",
    "where $F_3(x)$ is the CDF of the random variable $A_3$, representing the arrival time at $r_3$. We have \n",
    "\\begin{align*}\n",
    "F_3(x) &= \\sum_{k=0}^{2} {2 \\choose k} p^k (1-p)^{2 -k} \\frac{1}{|\\Gamma_k|} \\sum_{\\gamma \\in \\Gamma_k} \\left[P(A^{\\gamma}_{3-k} \\le x) \\right] \\\\\n",
    "&= (1-p)^2 P(A^{[0,1,2,3]}_3 \\le x) + 2p(1-p)(1/2)\\left[P(A^{[0,1,3]}_2 \\le x) + P(A^{[0,2,3]}_2 \\le x)\\right] + p^2 P(A^{[0,3]}_2 \\le x)\n",
    "\\end{align*}\n",
    "\n",
    "We have:\n",
    "\\begin{align*}\n",
    "P(A^{[0,1,2,3]}_3 \\le x) = \\xi_2^{[0,1,2,3]} Q_{2,3}^{[0,1,2,3]}(x-a_2) + (1-\\xi_2^{[0,1,2,3]}) \\xi_1^{[0,1,2,3]} Q_{1,3}^{[0,1,2,3]}(x-a_1) + (1-\\xi_2^{[0,1,2,3]})(1 - \\xi_1^{[0,1,2,3]}) Q_{0,3}^{[0,1,2,3]}(x)\n",
    "\\end{align*}\n",
    "where $\\xi_1^{[0,1,2,3]} =  Q_{0,1}^{[0,1,2,3]}(a_1)$ and $\\xi_2^{[0,1,2,3]} = P(A_2 \\le a_2 \\mid \\text{Traveling along path $[0,1,2,3]$}) \\neq Q_{0,2}^{[0,1,2,3]}(a_2)$\n",
    "\n",
    "\\begin{align*}\n",
    "P(A^{[0,2,3]}_3 \\le x) &= (1-\\xi_1^{[0,2,3]})Q_{0,2}^{[0,2,3]}(x)  + \\xi_1^{[0,2,3]} Q_{1,2}^{[0,2,3]}(x - a_{2}) \\\\\n",
    "&= (1-Q_{0,1}^{[0,2,3]}(a_2))Q_{0,2}^{[0,2,3]}(x)  + Q_{0,1}^{[0,2,3]}(a_2) Q_{1,2}^{[0,2,3]}(x - a_{2})\n",
    "\\end{align*}\n",
    "\n",
    "\n",
    "\\begin{align*}\n",
    "P(A^{[0,1,3]}_3 \\le x) &= (1-\\xi_1^{[0,1,3]})Q_{0,2}^{[0,1,3]}(x)  + \\xi_1^{[0,1,3]} Q_{1,2}^{[0,1,3]}(x - a_{1}) \\\\\n",
    "&= (1-Q_{0,1}^{[0,1,3]}(a_1))Q_{0,2}^{[0,1,3]}(x)  + Q_{0,1}^{[0,1,3]}(a_1) Q_{1,2}^{[0,1,3]}(x - a_{1})\n",
    "\\end{align*}\n",
    "\n",
    "\n",
    "\\begin{align*}\n",
    "P(A^{[0,3]}_3 \\le x) = Q_{0,1}^{[0,3]}(x)\n",
    "\\end{align*}"
   ]
  },
  {
   "cell_type": "code",
   "execution_count": 243,
   "metadata": {},
   "outputs": [
    {
     "data": {
      "image/png": "[encoded data removed]",
      "text/plain": [
       "<Figure size 432x288 with 1 Axes>"
      ]
     },
     "metadata": {
      "needs_background": "light"
     },
     "output_type": "display_data"
    },
    {
     "name": "stdout",
     "output_type": "stream",
     "text": [
      "Appointment Time at r_3: 22.882861143746783\n"
     ]
    }
   ],
   "source": [
    "### Doing it 'manually'\n",
    "def manual_F3(x):\n",
    "    result = 0\n",
    "    gamma = [0,1,2,3]\n",
    "    ### first term:\n",
    "    result += ((1-p) ** 2) * (0.6491228070291168 * Q(gamma, 2, 3, x - a[2]) + (1 - 0.6491228070291168) * Q(gamma,0,1,a[1]) * Q(gamma, 1,3,x-a[1]) + (1 - 0.6491228070291168) * (1 - Q(gamma, 0,1, a[1])) * Q(gamma, 0, 3, x))\n",
    "    \n",
    "    ### second term:\n",
    "    gamma = [0,1,3]\n",
    "    result += p * (1 - p) * ((1-Q(gamma, 0,1,a[1]))*(Q(gamma, 0, 2, x)) + (Q(gamma,0,1,a[1]))*(Q(gamma,1,2,x-a[1])))\n",
    "    \n",
    "    ### third term:\n",
    "    gamma = [0,2,3]\n",
    "    result += p * (1 - p) * ((1-Q(gamma, 0,1,a[2]))*(Q(gamma, 0, 2, x)) + (Q(gamma,0,1,a[2]))*(Q(gamma,1,2,x-a[2])))\n",
    "    \n",
    "    ### fourth term:\n",
    "    gamma = [0,3]\n",
    "    result += (p ** 2) * Q(gamma, 0,1,x)\n",
    "    \n",
    "    return result - q\n",
    "\n",
    "X = np.arange(-0,60,.1)\n",
    "fig = plt.figure()\n",
    "plt.scatter(X, [manual_F3(x) for x in X])\n",
    "plt.show()\n",
    "sol = optimize.root_scalar(manual_F3, bracket=[0,50])\n",
    "print('Appointment Time at r_3:', sol.root)"
   ]
  },
  {
   "cell_type": "code",
   "execution_count": 253,
   "metadata": {},
   "outputs": [
    {
     "data": {
      "image/png": "[encoded data removed]",
      "text/plain": [
       "<Figure size 432x288 with 1 Axes>"
      ]
     },
     "metadata": {
      "needs_background": "light"
     },
     "output_type": "display_data"
    },
    {
     "name": "stdout",
     "output_type": "stream",
     "text": [
      "Appointment Time at r_3: 22.88286114541126\n"
     ]
    }
   ],
   "source": [
    "## Using the get_gamma_cdf code\n",
    "def F3(x):\n",
    "    return ((1-p) ** 2) * get_gamma_cdf([0,1,2,3], x) + p * (1 - p) * (get_gamma_cdf([0, 2, 3], x) + get_gamma_cdf([0,1,3], x)) + (p ** 2) * get_gamma_cdf([0,3], x) - q\n",
    "X = np.arange(-0,60,.1)\n",
    "fig = plt.figure()\n",
    "plt.scatter(X, [F3(x) for x in X])\n",
    "plt.show()\n",
    "sol = optimize.root_scalar(F3, bracket=[0,50])\n",
    "print('Appointment Time at r_3:', sol.root)\n",
    "#a.append(sol.root)"
   ]
  },
  {
   "cell_type": "code",
   "execution_count": 245,
   "metadata": {},
   "outputs": [
    {
     "data": {
      "text/plain": [
       "120.0"
      ]
     },
     "execution_count": 245,
     "metadata": {},
     "output_type": "execute_result"
    }
   ],
   "source": [
    "from scipy import special\n",
    "special.comb(10, 3)"
   ]
  },
  {
   "cell_type": "markdown",
   "metadata": {},
   "source": [
    "$$P(A_j \\le x) = \\sum_{k=0}^{j-1} {j-1 \\choose k} p^k (1-p)^{j-1 -k} \\frac{1}{|\\Gamma_k|} \\sum_{\\gamma \\in \\Gamma_k} \\left[P(A^{\\gamma}_{j-k} \\le x) \\right]$$"
   ]
  },
  {
   "cell_type": "code",
   "execution_count": 259,
   "metadata": {},
   "outputs": [],
   "source": [
    "import itertools\n",
    "def get_subroutes(route, k):\n",
    "    \"\"\"Given a route and a number k, returns the set of routes that emerge from deleting k customers\"\"\"\n",
    "    assert k <= len(route)-2, 'k is too large'\n",
    "    original = route.copy()\n",
    "    intermediates = original[1:-1]\n",
    "    m = len(intermediates) \n",
    "    subroutes = [[original[0]] + list(subroute) + [original[-1]] for subroute in itertools.combinations(intermediates, m - k)]\n",
    "    return subroutes\n",
    "\n",
    "def get_CDF(j, x):\n",
    "    route = [i for i in range(0,j+1)]\n",
    "    result = 0\n",
    "    for k in range(j):\n",
    "        subroutes = get_subroutes(route, k)\n",
    "        term = 0\n",
    "        for gamma in subroutes:\n",
    "            term += get_gamma_cdf(gamma, x)\n",
    "        term = special.comb(j - 1, k) * term\n",
    "        term = ( p ** k) * ((1 - p) ** (j - 1 - k)) * term\n",
    "        term = (1 / len(subroutes)) * term\n",
    "        result += term\n",
    "    return result \n",
    "    "
   ]
  },
  {
   "cell_type": "code",
   "execution_count": 436,
   "metadata": {},
   "outputs": [],
   "source": [
    "def plot_CDF(j):\n",
    "    def my_F(x):\n",
    "        return get_CDF(j,x) - q\n",
    "    sol = optimize.root_scalar(my_F, bracket=[0,70])\n",
    "    Z = np.arange(0,60,1)\n",
    "    plt.plot(Z, [get_CDF(j, z) for z in Z], label=f'A_{j}')\n",
    "    plt.plot()\n",
    "    plt.scatter(sol.root, q, c='red')\n",
    "    #plt.vlines(x=sol.root, ymin=0, ymax=q,colors = 'black', linestyles='dashed')\n",
    "    \n",
    "    #plt.annotate(f'$a_{j}$',(sol.root, 0),(sol.root,-.1))\n",
    "    print(f\"Appointment for Stop {j}: {np.round(sol.root,2)}\")\n",
    "    if len(a) < j+1:\n",
    "        a.append(sol.root)\n",
    "    plt.xticks(a, [f'$a_{i}$={np.round(a[i],2)}' for i in range(len(a))],rotation=45, fontsize=14)\n",
    "    plt.yticks([i for i in np.arange(0,1.1,0.1)] + [q], \n",
    "               [np.round(i,2) for i in np.arange(0,1.1,0.1)] + ['q'],\n",
    "              fontsize=14)\n"
   ]
  },
  {
   "cell_type": "code",
   "execution_count": 448,
   "metadata": {},
   "outputs": [
    {
     "name": "stdout",
     "output_type": "stream",
     "text": [
      "Cancellation probability: 0.5\n",
      "Appointment for Stop 1: 7.24\n",
      "Appointment for Stop 2: 12.87\n",
      "Appointment for Stop 3: 19.15\n",
      "Appointment for Stop 4: 29.27\n",
      "Appointment for Stop 5: 38.28\n"
     ]
    },
    {
     "data": {
      "image/png": "[encoded data removed]",
      "text/plain": [
       "<Figure size 720x576 with 1 Axes>"
      ]
     },
     "metadata": {
      "needs_background": "light"
     },
     "output_type": "display_data"
    }
   ],
   "source": [
    "a = [0]\n",
    "p = 0.5\n",
    "print(f\"Cancellation probability: {np.round(p,2)}\")\n",
    "plt.figure(figsize=(10,8))\n",
    "plt.title(f\"Arrival Time CDFs (p={p})\", fontsize=18)\n",
    "plt.xlabel(\"Time\", fontsize=16)\n",
    "plt.ylabel(\"P($A_j$ <= Time)\",rotation=90, fontsize=16)\n",
    "for j in range(1,6):\n",
    "    plot_CDF(j)\n",
    "plt.legend(fontsize=14)\n",
    "plt.savefig(f'images/cdf_plot_p_{p}.pdf', bbox_inches=\"tight\")\n",
    "plt.show()"
   ]
  },
  {
   "cell_type": "code",
   "execution_count": null,
   "metadata": {},
   "outputs": [],
   "source": []
  },
  {
   "cell_type": "code",
   "execution_count": null,
   "metadata": {},
   "outputs": [],
   "source": []
  }
 ],
 "metadata": {
  "kernelspec": {
   "display_name": "Python 3",
   "language": "python",
   "name": "python3"
  },
  "language_info": {
   "codemirror_mode": {
    "name": "ipython",
    "version": 3
   },
   "file_extension": ".py",
   "mimetype": "text/x-python",
   "name": "python",
   "nbconvert_exporter": "python",
   "pygments_lexer": "ipython3",
   "version": "3.7.2"
  }
 },
 "nbformat": 4,
 "nbformat_minor": 2
}
